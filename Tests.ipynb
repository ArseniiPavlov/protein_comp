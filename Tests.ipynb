{
 "cells": [
  {
   "cell_type": "code",
   "execution_count": 7,
   "metadata": {},
   "outputs": [
    {
     "data": {
      "text/plain": [
       "<matplotlib.image.AxesImage at 0x1a0db5bacc0>"
      ]
     },
     "execution_count": 7,
     "metadata": {},
     "output_type": "execute_result"
    },
    {
     "data": {
      "image/png": "[encoded data removed]",
      "text/plain": [
       "<Figure size 720x432 with 3 Axes>"
      ]
     },
     "metadata": {
      "needs_background": "light"
     },
     "output_type": "display_data"
    }
   ],
   "source": [
    "import math\n",
    "import numpy as np\n",
    "import matplotlib.pyplot as plt\n",
    "%matplotlib inline\n",
    "from skimage.draw import (line, polygon, circle,\n",
    "                          circle_perimeter,\n",
    "                          ellipse, ellipse_perimeter,\n",
    "                          bezier_curve)\n",
    "\n",
    "\n",
    "fig, (ax1, ax2, ax3) = plt.subplots(ncols=3, nrows=1, figsize=(10, 6))\n",
    "\n",
    "\n",
    "\n",
    "color1 = (255,255,0)\n",
    "color2 = (0,255,0)\n",
    "color3arr = np.array([comp[0] + comp[1] for comp in zip(color1, color2)])\n",
    "color3 = tuple(color3arr * 255 / max(color3arr))\n",
    "\n",
    "img1 = np.ones((500, 500, 3), dtype=np.uint8)\n",
    "img1[:,:,0],img1[:,:,1],img1[:,:,2] = color1\n",
    "img1[0:100,0:100,0],img1[0:100,0:100,1],img1[0:100,0:100,2] = color2\n",
    "\n",
    "img2 = np.ones((500, 500, 3), dtype=np.uint8)\n",
    "img2[:,:,0],img2[:,:,1],img2[:,:,2] = img1[:,:,1],img1[:,:,0],img1[:,:,2]\n",
    "\n",
    "img3 = np.ones((500, 500, 3), dtype=np.uint8)\n",
    "img3[:,:,0],img3[:,:,1],img3[:,:,2] = color3\n",
    "\n",
    "# fill polygon\n",
    "#poly = np.array((\n",
    "#    (100, 100),\n",
    "#    (100, 400),\n",
    "#    (400, 400),\n",
    "#    (400, 100),\n",
    "#    ))\n",
    "#rr, cc = polygon(poly[:, 0], poly[:, 1], img.shape)\n",
    "#img[rr, cc, 0] = 150\n",
    "ax1.imshow(img1)\n",
    "ax2.imshow(img2)\n",
    "ax3.imshow(img3)\n",
    "#print(img1)"
   ]
  },
  {
   "cell_type": "code",
   "execution_count": 4,
   "metadata": {},
   "outputs": [],
   "source": [
    "from skimage.io import imread"
   ]
  },
  {
   "cell_type": "code",
   "execution_count": 5,
   "metadata": {},
   "outputs": [],
   "source": [
    "i1 = imread('train/000a6c98-bb9b-11e8-b2b9-ac1f6b6435d0_red.png')"
   ]
  },
  {
   "cell_type": "code",
   "execution_count": 6,
   "metadata": {},
   "outputs": [
    {
     "data": {
      "text/plain": [
       "array([[11,  6,  2, ...,  0,  6,  1],\n",
       "       [ 5, 32, 19, ...,  2,  1,  3],\n",
       "       [ 0,  2, 26, ...,  5,  2,  5],\n",
       "       ...,\n",
       "       [ 0,  0,  0, ..., 24, 12,  0],\n",
       "       [ 0,  0,  0, ..., 20, 72, 18],\n",
       "       [ 0,  0,  0, ..., 39, 18, 23]], dtype=uint8)"
      ]
     },
     "execution_count": 6,
     "metadata": {},
     "output_type": "execute_result"
    }
   ],
   "source": [
    "i1"
   ]
  },
  {
   "cell_type": "code",
   "execution_count": 11,
   "metadata": {},
   "outputs": [],
   "source": [
    "t_img = np.stack((i1, i1, i1),axis=2)"
   ]
  },
  {
   "cell_type": "code",
   "execution_count": 36,
   "metadata": {},
   "outputs": [
    {
     "data": {
      "text/plain": [
       "array([[ 8,  4,  1, ...,  0,  4,  0],\n",
       "       [ 3, 24, 14, ...,  1,  0,  2],\n",
       "       [ 0,  1, 19, ...,  3,  1,  3],\n",
       "       ...,\n",
       "       [ 0,  0,  0, ..., 18,  9,  0],\n",
       "       [ 0,  0,  0, ..., 15, 54, 13],\n",
       "       [ 0,  0,  0, ..., 29, 13, 17]], dtype=uint8)"
      ]
     },
     "execution_count": 36,
     "metadata": {},
     "output_type": "execute_result"
    }
   ],
   "source": [
    "(t_img[:,:,0]*0.75).astype(np.uint8)"
   ]
  },
  {
   "cell_type": "code",
   "execution_count": 31,
   "metadata": {},
   "outputs": [
    {
     "data": {
      "text/plain": [
       "255"
      ]
     },
     "execution_count": 31,
     "metadata": {},
     "output_type": "execute_result"
    }
   ],
   "source": [
    "np.max(t_img[:,:,0])"
   ]
  },
  {
   "cell_type": "code",
   "execution_count": null,
   "metadata": {},
   "outputs": [],
   "source": []
  }
 ],
 "metadata": {
  "kernelspec": {
   "display_name": "Python 3",
   "language": "python",
   "name": "python3"
  },
  "language_info": {
   "codemirror_mode": {
    "name": "ipython",
    "version": 3
   },
   "file_extension": ".py",
   "mimetype": "text/x-python",
   "name": "python",
   "nbconvert_exporter": "python",
   "pygments_lexer": "ipython3",
   "version": "3.6.5"
  }
 },
 "nbformat": 4,
 "nbformat_minor": 2
}
